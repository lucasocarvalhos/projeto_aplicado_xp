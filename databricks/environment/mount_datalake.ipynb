{
 "cells": [
  {
   "cell_type": "markdown",
   "metadata": {
    "application/vnd.databricks.v1+cell": {
     "cellMetadata": {
      "byteLimit": 2048000,
      "rowLimit": 10000
     },
     "inputWidgets": {},
     "nuid": "66a85c60-1c03-463e-b103-8066a53045b0",
     "showTitle": false,
     "tableResultSettingsMap": {},
     "title": ""
    }
   },
   "source": [
    "# Mountpoint do Data Lake"
   ]
  },
  {
   "cell_type": "code",
   "execution_count": 0,
   "metadata": {
    "application/vnd.databricks.v1+cell": {
     "cellMetadata": {
      "byteLimit": 2048000,
      "rowLimit": 10000
     },
     "inputWidgets": {},
     "nuid": "947c2175-f5a4-440e-a5cc-4eb5e5f76def",
     "showTitle": true,
     "tableResultSettingsMap": {},
     "title": "Autenticação"
    }
   },
   "outputs": [],
   "source": [
    "storage_account_name = dbutils.secrets.get(scope=\"projetoaplicado-xp\", key=\"storage-account\")"
   ]
  },
  {
   "cell_type": "code",
   "execution_count": 0,
   "metadata": {
    "application/vnd.databricks.v1+cell": {
     "cellMetadata": {
      "byteLimit": 2048000,
      "rowLimit": 10000
     },
     "inputWidgets": {},
     "nuid": "20153dab-b295-4afa-be3a-c2d05b02db24",
     "showTitle": false,
     "tableResultSettingsMap": {},
     "title": ""
    }
   },
   "outputs": [],
   "source": [
    "def mount_datalake(storage_account_name, container_name):\n",
    "    if any(mount.mountPoint == f\"/mnt/{container_name}\" for mount in dbutils.fs.mounts()):\n",
    "        print(\"Mountpoint já existe.\")\n",
    "\n",
    "    else:\n",
    "        configs = {\n",
    "            \"fs.azure.account.auth.type\": \"OAuth\",\n",
    "            \"fs.azure.account.oauth.provider.type\": \"org.apache.hadoop.fs.azurebfs.oauth2.ClientCredsTokenProvider\",\n",
    "            \"fs.azure.account.oauth2.client.id\": dbutils.secrets.get(scope=\"projetoaplicado-xp\", key=\"client-id\"),\n",
    "            \"fs.azure.account.oauth2.client.secret\": dbutils.secrets.get(scope=\"projetoaplicado-xp\", key=\"client-secret\"),\n",
    "            \"fs.azure.account.oauth2.client.endpoint\": f\"https://login.microsoftonline.com/{dbutils.secrets.get(scope='projetoaplicado-xp', key='tenant-id')}/oauth2/token\"\n",
    "        }\n",
    "\n",
    "        dbutils.fs.mount(\n",
    "            source=f\"abfss://{container_name}@{storage_account_name}.dfs.core.windows.net/\",\n",
    "            mount_point=f\"/mnt/{container_name}\",\n",
    "            extra_configs=configs\n",
    "        )\n",
    "\n",
    "        print(\"Mountpoint criado com sucesso.\")"
   ]
  },
  {
   "cell_type": "code",
   "execution_count": 0,
   "metadata": {
    "application/vnd.databricks.v1+cell": {
     "cellMetadata": {
      "byteLimit": 2048000,
      "rowLimit": 10000
     },
     "inputWidgets": {},
     "nuid": "8ef20da4-a3c3-4361-9051-2f64e0b16ddb",
     "showTitle": false,
     "tableResultSettingsMap": {},
     "title": ""
    }
   },
   "outputs": [],
   "source": [
    "mount_datalake(storage_account_name, \"delta\")"
   ]
  },
  {
   "cell_type": "code",
   "execution_count": 0,
   "metadata": {
    "application/vnd.databricks.v1+cell": {
     "cellMetadata": {
      "byteLimit": 2048000,
      "rowLimit": 10000
     },
     "inputWidgets": {},
     "nuid": "f6657599-b7b4-442f-8ae2-8194cb0d0504",
     "showTitle": false,
     "tableResultSettingsMap": {},
     "title": ""
    }
   },
   "outputs": [],
   "source": [
    "mount_datalake(storage_account_name, \"raw\")"
   ]
  }
 ],
 "metadata": {
  "application/vnd.databricks.v1+notebook": {
   "computePreferences": null,
   "dashboards": [],
   "environmentMetadata": {
    "base_environment": "",
    "environment_version": "2"
   },
   "language": "python",
   "notebookMetadata": {
    "mostRecentlyExecutedCommandWithImplicitDF": {
     "commandId": 3572945541449057,
     "dataframes": [
      "_sqldf"
     ]
    },
    "pythonIndentUnit": 4
   },
   "notebookName": "mount_datalake",
   "widgets": {}
  },
  "language_info": {
   "name": "python"
  }
 },
 "nbformat": 4,
 "nbformat_minor": 0
}
