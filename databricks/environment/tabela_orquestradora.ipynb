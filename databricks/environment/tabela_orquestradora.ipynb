{
 "cells": [
  {
   "cell_type": "code",
   "execution_count": 0,
   "metadata": {
    "application/vnd.databricks.v1+cell": {
     "cellMetadata": {
      "byteLimit": 2048000,
      "implicitDf": true,
      "rowLimit": 10000
     },
     "inputWidgets": {},
     "nuid": "a27ed0d5-a5a7-408a-a1fb-301a28c1f853",
     "showTitle": false,
     "tableResultSettingsMap": {},
     "title": ""
    }
   },
   "outputs": [],
   "source": [
    "%sql\n",
    "CREATE TABLE default.pipeline_orquestrador (\n",
    "    etapa CHAR(2) NOT NULL,\n",
    "    chave_entidade VARCHAR(255) NOT NULL,\n",
    "    consulta VARCHAR(5000) NOT NULL\n",
    ")"
   ]
  },
  {
   "cell_type": "code",
   "execution_count": 0,
   "metadata": {
    "application/vnd.databricks.v1+cell": {
     "cellMetadata": {
      "byteLimit": 2048000,
      "implicitDf": true,
      "rowLimit": 10000
     },
     "inputWidgets": {},
     "nuid": "fc80eeef-88b4-4295-801d-5f619d39b3b5",
     "showTitle": false,
     "tableResultSettingsMap": {},
     "title": ""
    }
   },
   "outputs": [],
   "source": [
    "%sql\n",
    "SELECT *\n",
    "FROM default.pipeline_orquestrador"
   ]
  },
  {
   "cell_type": "markdown",
   "metadata": {
    "application/vnd.databricks.v1+cell": {
     "cellMetadata": {},
     "inputWidgets": {},
     "nuid": "f87f6145-d3eb-4e26-a088-799efdf8e801",
     "showTitle": false,
     "tableResultSettingsMap": {},
     "title": ""
    }
   },
   "source": [
    "# Raw-Bronze"
   ]
  },
  {
   "cell_type": "code",
   "execution_count": 0,
   "metadata": {
    "application/vnd.databricks.v1+cell": {
     "cellMetadata": {
      "byteLimit": 2048000,
      "implicitDf": true,
      "rowLimit": 10000
     },
     "inputWidgets": {},
     "nuid": "a104688a-68b0-4c6e-8b18-14a03385e2b4",
     "showTitle": false,
     "tableResultSettingsMap": {},
     "title": ""
    }
   },
   "outputs": [],
   "source": [
    "%sql\n",
    "INSERT INTO pipeline_orquestrador VALUES (\n",
    "  \"RB\",\n",
    "  \"sistema_logosofico.aluno\",\n",
    "  \"https://raw.githubusercontent.com/lucasocarvalhos/projeto_aplicado_xp/refs/heads/develop/datasets/aluno.csv\"\n",
    ")"
   ]
  },
  {
   "cell_type": "code",
   "execution_count": 0,
   "metadata": {
    "application/vnd.databricks.v1+cell": {
     "cellMetadata": {
      "byteLimit": 2048000,
      "implicitDf": true,
      "rowLimit": 10000
     },
     "inputWidgets": {},
     "nuid": "6ba6e214-93bc-4f33-aaa9-8cd3dee8521c",
     "showTitle": false,
     "tableResultSettingsMap": {},
     "title": ""
    }
   },
   "outputs": [],
   "source": [
    "%sql\n",
    "INSERT INTO pipeline_orquestrador VALUES (\n",
    "  \"RB\",\n",
    "  \"sistema_logosofico.curso\",\n",
    "  \"https://raw.githubusercontent.com/lucasocarvalhos/projeto_aplicado_xp/refs/heads/develop/datasets/aluno.csv\"\n",
    ")"
   ]
  },
  {
   "cell_type": "code",
   "execution_count": 0,
   "metadata": {
    "application/vnd.databricks.v1+cell": {
     "cellMetadata": {
      "byteLimit": 2048000,
      "implicitDf": true,
      "rowLimit": 10000
     },
     "inputWidgets": {},
     "nuid": "ac9ad240-283e-4e57-bf90-dc0e73294c56",
     "showTitle": false,
     "tableResultSettingsMap": {},
     "title": ""
    }
   },
   "outputs": [],
   "source": [
    "%sql\n",
    "INSERT INTO pipeline_orquestrador VALUES (\n",
    "  \"RB\",\n",
    "  \"sistema_logosofico.disciplina\",\n",
    "  \"https://raw.githubusercontent.com/lucasocarvalhos/projeto_aplicado_xp/refs/heads/develop/datasets/disciplina.csv\"\n",
    ")"
   ]
  },
  {
   "cell_type": "code",
   "execution_count": 0,
   "metadata": {
    "application/vnd.databricks.v1+cell": {
     "cellMetadata": {
      "byteLimit": 2048000,
      "implicitDf": true,
      "rowLimit": 10000
     },
     "inputWidgets": {},
     "nuid": "3955b937-bacd-488b-bce0-5a6646f083ed",
     "showTitle": false,
     "tableResultSettingsMap": {},
     "title": ""
    }
   },
   "outputs": [],
   "source": [
    "%sql\n",
    "INSERT INTO pipeline_orquestrador VALUES (\n",
    "  \"RB\",\n",
    "  \"sistema_logosofico.disciplina\",\n",
    "  \"https://raw.githubusercontent.com/lucasocarvalhos/projeto_aplicado_xp/refs/heads/develop/datasets/matricula.csv\"\n",
    ")"
   ]
  },
  {
   "cell_type": "code",
   "execution_count": 0,
   "metadata": {
    "application/vnd.databricks.v1+cell": {
     "cellMetadata": {
      "byteLimit": 2048000,
      "implicitDf": true,
      "rowLimit": 10000
     },
     "inputWidgets": {},
     "nuid": "b6f2cbd2-14ef-4df7-a321-69cdb5bd05ad",
     "showTitle": false,
     "tableResultSettingsMap": {},
     "title": ""
    }
   },
   "outputs": [],
   "source": [
    "%sql\n",
    "INSERT INTO pipeline_orquestrador VALUES (\n",
    "  \"RB\",\n",
    "  \"sistema_logosofico.matricula_disciplina\",\n",
    "  \"https://raw.githubusercontent.com/lucasocarvalhos/projeto_aplicado_xp/refs/heads/develop/datasets/matricula_disciplina.csv\"\n",
    ")"
   ]
  },
  {
   "cell_type": "code",
   "execution_count": 0,
   "metadata": {
    "application/vnd.databricks.v1+cell": {
     "cellMetadata": {
      "byteLimit": 2048000,
      "implicitDf": true,
      "rowLimit": 10000
     },
     "inputWidgets": {},
     "nuid": "0f361761-3a94-4de6-bdc8-c651c360a9eb",
     "showTitle": false,
     "tableResultSettingsMap": {},
     "title": ""
    }
   },
   "outputs": [],
   "source": [
    "%sql\n",
    "INSERT INTO pipeline_orquestrador VALUES (\n",
    "  \"RB\",\n",
    "  \"sistema_logosofico.turma\",\n",
    "  \"https://raw.githubusercontent.com/lucasocarvalhos/projeto_aplicado_xp/refs/heads/develop/datasets/turma.csv\"\n",
    ")"
   ]
  },
  {
   "cell_type": "markdown",
   "metadata": {
    "application/vnd.databricks.v1+cell": {
     "cellMetadata": {},
     "inputWidgets": {},
     "nuid": "873f0c96-dcf2-4c7e-9efd-4b6039e82df1",
     "showTitle": false,
     "tableResultSettingsMap": {},
     "title": ""
    }
   },
   "source": [
    "# Silver"
   ]
  },
  {
   "cell_type": "code",
   "execution_count": 0,
   "metadata": {
    "application/vnd.databricks.v1+cell": {
     "cellMetadata": {
      "byteLimit": 2048000,
      "implicitDf": true,
      "rowLimit": 10000
     },
     "inputWidgets": {},
     "nuid": "b4883faf-ebbd-4028-98d3-17064513f48a",
     "showTitle": false,
     "tableResultSettingsMap": {},
     "title": ""
    }
   },
   "outputs": [],
   "source": [
    "%sql\n",
    "INSERT INTO pipeline_orquestrador VALUES (\n",
    "  \"SV\",\n",
    "  \"academico.aluno\",\n",
    "  \"'notebook':'academico.aluno'\"\n",
    ")"
   ]
  }
 ],
 "metadata": {
  "application/vnd.databricks.v1+notebook": {
   "computePreferences": null,
   "dashboards": [],
   "environmentMetadata": {
    "base_environment": "",
    "environment_version": "2"
   },
   "language": "python",
   "notebookMetadata": {
    "mostRecentlyExecutedCommandWithImplicitDF": {
     "commandId": 150422546098269,
     "dataframes": [
      "_sqldf"
     ]
    },
    "pythonIndentUnit": 4
   },
   "notebookName": "tabela_orquestradora",
   "widgets": {}
  },
  "language_info": {
   "name": "python"
  }
 },
 "nbformat": 4,
 "nbformat_minor": 0
}
