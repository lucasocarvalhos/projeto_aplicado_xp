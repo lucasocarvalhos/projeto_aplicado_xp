{
 "cells": [
  {
   "cell_type": "code",
   "execution_count": 0,
   "metadata": {
    "application/vnd.databricks.v1+cell": {
     "cellMetadata": {
      "byteLimit": 2048000,
      "implicitDf": true,
      "rowLimit": 10000
     },
     "inputWidgets": {},
     "nuid": "a27ed0d5-a5a7-408a-a1fb-301a28c1f853",
     "showTitle": false,
     "tableResultSettingsMap": {},
     "title": ""
    }
   },
   "outputs": [],
   "source": [
    "%sql\n",
    "CREATE TABLE default.pipeline_orquestrador (\n",
    "    etapa CHAR(2) NOT NULL,\n",
    "    chave_entidade VARCHAR(255) NOT NULL,\n",
    "    consulta VARCHAR(5000) NOT NULL\n",
    ")"
   ]
  },
  {
   "cell_type": "code",
   "execution_count": 0,
   "metadata": {
    "application/vnd.databricks.v1+cell": {
     "cellMetadata": {
      "byteLimit": 2048000,
      "implicitDf": true,
      "rowLimit": 10000
     },
     "inputWidgets": {},
     "nuid": "a104688a-68b0-4c6e-8b18-14a03385e2b4",
     "showTitle": false,
     "tableResultSettingsMap": {},
     "title": ""
    }
   },
   "outputs": [],
   "source": [
    "%sql\n",
    "INSERT INTO pipeline_orquestrador VALUES (\n",
    "  \"RB\",\n",
    "  \"sistema_logosofico.aluno\",\n",
    "  \"https://raw.githubusercontent.com/lucasocarvalhos/projeto_aplicado_xp/refs/heads/master/datasets/aluno.csv?token=GHSAT0AAAAAADANN733B57H55D7MORDBQAOZ63MHWA\"\n",
    ")"
   ]
  },
  {
   "cell_type": "code",
   "execution_count": 0,
   "metadata": {
    "application/vnd.databricks.v1+cell": {
     "cellMetadata": {
      "byteLimit": 2048000,
      "implicitDf": true,
      "rowLimit": 10000
     },
     "inputWidgets": {},
     "nuid": "6ba6e214-93bc-4f33-aaa9-8cd3dee8521c",
     "showTitle": false,
     "tableResultSettingsMap": {},
     "title": ""
    }
   },
   "outputs": [],
   "source": [
    "%sql\n",
    "INSERT INTO pipeline_orquestrador VALUES (\n",
    "  \"RB\",\n",
    "  \"sistema_logosofico.curso\",\n",
    "  \"https://raw.githubusercontent.com/lucasocarvalhos/projeto_aplicado_xp/refs/heads/develop/datasets/curso.csv?token=GHSAT0AAAAAADANN733M7WKHH62A7AY663IZ63NPQQ\"\n",
    ")"
   ]
  },
  {
   "cell_type": "code",
   "execution_count": 0,
   "metadata": {
    "application/vnd.databricks.v1+cell": {
     "cellMetadata": {
      "byteLimit": 2048000,
      "implicitDf": true,
      "rowLimit": 10000
     },
     "inputWidgets": {},
     "nuid": "9440b29c-f6c0-4ff9-8307-f8991361b1c4",
     "showTitle": false,
     "tableResultSettingsMap": {},
     "title": ""
    }
   },
   "outputs": [],
   "source": [
    "%sql\n",
    "SELECT *\n",
    "FROM default.pipeline_orquestrador"
   ]
  }
 ],
 "metadata": {
  "application/vnd.databricks.v1+notebook": {
   "computePreferences": null,
   "dashboards": [],
   "environmentMetadata": {
    "base_environment": "",
    "environment_version": "2"
   },
   "language": "python",
   "notebookMetadata": {
    "mostRecentlyExecutedCommandWithImplicitDF": {
     "commandId": 3572945541449068,
     "dataframes": [
      "_sqldf"
     ]
    },
    "pythonIndentUnit": 4
   },
   "notebookName": "tabela_orquestradora",
   "widgets": {}
  },
  "language_info": {
   "name": "python"
  }
 },
 "nbformat": 4,
 "nbformat_minor": 0
}
