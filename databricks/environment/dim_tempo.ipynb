{
 "cells": [
  {
   "cell_type": "markdown",
   "metadata": {
    "application/vnd.databricks.v1+cell": {
     "cellMetadata": {
      "byteLimit": 2048000,
      "rowLimit": 10000
     },
     "inputWidgets": {},
     "nuid": "1583cc95-cf67-4f29-ae16-042b3a36dafa",
     "showTitle": false,
     "tableResultSettingsMap": {},
     "title": ""
    }
   },
   "source": [
    "### Criação da dimensão tempo"
   ]
  },
  {
   "cell_type": "code",
   "execution_count": 0,
   "metadata": {
    "application/vnd.databricks.v1+cell": {
     "cellMetadata": {
      "byteLimit": 2048000,
      "rowLimit": 10000
     },
     "inputWidgets": {},
     "nuid": "7055e727-b6ed-432f-887d-ac7626e154c3",
     "showTitle": false,
     "tableResultSettingsMap": {},
     "title": ""
    }
   },
   "outputs": [],
   "source": [
    "from pyspark.sql import SparkSession\n",
    "from pyspark.sql.functions import col, expr, date_format\n",
    "from pyspark.sql.types import DateType\n",
    "from datetime import datetime, timedelta\n",
    "\n",
    "spark.conf.set(\"spark.sql.legacy.timeParserPolicy\", \"LEGACY\")"
   ]
  },
  {
   "cell_type": "code",
   "execution_count": 0,
   "metadata": {
    "application/vnd.databricks.v1+cell": {
     "cellMetadata": {
      "byteLimit": 2048000,
      "rowLimit": 10000
     },
     "inputWidgets": {},
     "nuid": "e7ac8af4-4847-4be9-8498-2f91954622f4",
     "showTitle": false,
     "tableResultSettingsMap": {},
     "title": ""
    }
   },
   "outputs": [],
   "source": [
    "# Definir o período da dimensão de tempo\n",
    "start_date = datetime(2000, 1, 1)  # Data inicial\n",
    "end_date = datetime(2030, 12, 31)  # Data final\n",
    "\n",
    "# Criar uma lista de datas\n",
    "date_list = [(start_date + timedelta(days=i)).strftime(\"%Y-%m-%d\") for i in range((end_date - start_date).days + 1)]\n",
    "\n",
    "# Criar DataFrame a partir da lista de datas\n",
    "df = spark.createDataFrame(date_list, \"string\").toDF(\"date\")\n",
    "\n",
    "# Converter para tipo DateType\n",
    "df = df.withColumn(\"date\", col(\"date\").cast(DateType()))\n",
    "\n",
    "# Adicionar colunas da dimensão de tempo\n",
    "df = df.withColumn(\"ano\", date_format(col(\"date\"), \"yyyy\").cast(\"int\")) \\\n",
    "       .withColumn(\"mes\", date_format(col(\"date\"), \"MM\").cast(\"int\")) \\\n",
    "       .withColumn(\"dia\", date_format(col(\"date\"), \"dd\").cast(\"int\")) \\\n",
    "       .withColumn(\"dia_da_semana\", date_format(col(\"date\"), \"E\")) \\\n",
    "       .withColumn(\"dia_do_ano\", date_format(col(\"date\"), \"D\").cast(\"int\")) \\\n",
    "       .withColumn(\"semana_do_ano\", date_format(col(\"date\"), \"w\").cast(\"int\")) \\\n",
    "       .withColumn(\"quarter\", expr(\"quarter(date)\")) \\\n",
    "       .withColumn(\"flag_fim_de_semana\", expr(\"CASE WHEN dia_da_semana IN ('Sat', 'Sun') THEN 1 ELSE 0 END\"))"
   ]
  },
  {
   "cell_type": "code",
   "execution_count": 0,
   "metadata": {
    "application/vnd.databricks.v1+cell": {
     "cellMetadata": {
      "byteLimit": 2048000,
      "rowLimit": 10000
     },
     "inputWidgets": {},
     "nuid": "3e6b56d1-016f-4799-a64a-451841e8e695",
     "showTitle": false,
     "tableResultSettingsMap": {},
     "title": ""
    }
   },
   "outputs": [],
   "source": [
    "df.write.format(\"delta\").mode(\"overwrite\").saveAsTable(\"default.dim_tempo\")"
   ]
  }
 ],
 "metadata": {
  "application/vnd.databricks.v1+notebook": {
   "computePreferences": null,
   "dashboards": [],
   "environmentMetadata": {
    "base_environment": "",
    "environment_version": "2"
   },
   "language": "python",
   "notebookMetadata": {
    "mostRecentlyExecutedCommandWithImplicitDF": {
     "commandId": 38855069167115,
     "dataframes": [
      "_sqldf"
     ]
    },
    "pythonIndentUnit": 4
   },
   "notebookName": "dim_tempo",
   "widgets": {}
  },
  "language_info": {
   "name": "python"
  }
 },
 "nbformat": 4,
 "nbformat_minor": 0
}
