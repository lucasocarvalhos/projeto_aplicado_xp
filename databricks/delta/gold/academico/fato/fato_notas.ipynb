{
 "cells": [
  {
   "cell_type": "markdown",
   "metadata": {
    "application/vnd.databricks.v1+cell": {
     "cellMetadata": {
      "byteLimit": 2048000,
      "rowLimit": 10000
     },
     "inputWidgets": {},
     "nuid": "717a0344-fa6e-4553-a559-7b9904b5933c",
     "showTitle": false,
     "tableResultSettingsMap": {},
     "title": ""
    }
   },
   "source": [
    "### Carrega dados da camada Silver e Dimensões"
   ]
  },
  {
   "cell_type": "code",
   "execution_count": 0,
   "metadata": {
    "application/vnd.databricks.v1+cell": {
     "cellMetadata": {
      "byteLimit": 2048000,
      "rowLimit": 10000
     },
     "inputWidgets": {},
     "nuid": "63b849e3-a486-471f-9163-536f8504b62f",
     "showTitle": false,
     "tableResultSettingsMap": {},
     "title": ""
    }
   },
   "outputs": [],
   "source": [
    "from pyspark.sql import functions as f"
   ]
  },
  {
   "cell_type": "code",
   "execution_count": 0,
   "metadata": {
    "application/vnd.databricks.v1+cell": {
     "cellMetadata": {
      "byteLimit": 2048000,
      "rowLimit": 10000
     },
     "inputWidgets": {},
     "nuid": "567e5818-e36c-4907-88d7-c44b9e1d97ed",
     "showTitle": false,
     "tableResultSettingsMap": {},
     "title": ""
    }
   },
   "outputs": [],
   "source": [
    "# Silver\n",
    "matricula_disciplina = spark.read.format(\"delta\").load(\"/mnt/delta/silver/academico/matricula_disciplina\")\n",
    "matricula = spark.read.format(\"delta\").load(\"/mnt/delta/silver/academico/matricula\")\n",
    "\n",
    "# Dimensões\n",
    "\n",
    "dim_aluno = spark.read.format(\"delta\").load(\"/mnt/delta/gold/academico/dimensao/dim_aluno\")\n",
    "dim_curso = spark.read.format(\"delta\").load(\"/mnt/delta/gold/academico/dimensao/dim_curso\")\n",
    "dim_disciplina = spark.read.format(\"delta\").load(\"/mnt/delta/gold/academico/dimensao/dim_disciplina\")\n",
    "dim_turma = spark.read.format(\"delta\").load(\"/mnt/delta/gold/academico/dimensao/dim_turma\")\n",
    "dim_tempo = spark.table(\"default.dim_tempo\")"
   ]
  },
  {
   "cell_type": "code",
   "execution_count": 0,
   "metadata": {
    "application/vnd.databricks.v1+cell": {
     "cellMetadata": {
      "byteLimit": 2048000,
      "rowLimit": 10000
     },
     "inputWidgets": {},
     "nuid": "a981809f-b6c0-4112-984f-bf312e7933e9",
     "showTitle": false,
     "tableResultSettingsMap": {},
     "title": ""
    }
   },
   "outputs": [],
   "source": [
    "df = (\n",
    "    matricula.alias(\"matricula\")\n",
    " \n",
    "    .join(matricula_disciplina.alias(\"matricula_disciplina\"), \n",
    "        [\"id_matricula\"]\n",
    "        )\n",
    "    \n",
    "    .join(dim_tempo, \n",
    "        f.col(\"matricula.data_matricula\") == f.col(\"dim_tempo.date\")\n",
    "        )\n",
    "    \n",
    "    .select(\n",
    "        \"id_matricula\"\n",
    "        , \"id_aluno\"\n",
    "        , \"id_turma\"\n",
    "        , \"id_disciplina\"\n",
    "        , f.date_format(\"dim_tempo.date\", \"yyyyMMdd\").alias(\"id_data_matricula\")\n",
    "        , \"nota_final\"\n",
    "    )\n",
    ")"
   ]
  },
  {
   "cell_type": "code",
   "execution_count": 0,
   "metadata": {
    "application/vnd.databricks.v1+cell": {
     "cellMetadata": {
      "byteLimit": 2048000,
      "rowLimit": 10000
     },
     "inputWidgets": {},
     "nuid": "8b27b37d-9265-43ba-854a-1c42f8653862",
     "showTitle": false,
     "tableResultSettingsMap": {},
     "title": ""
    }
   },
   "outputs": [],
   "source": [
    "df.write.format(\"delta\").mode(\"overwrite\").save(f\"/mnt/delta/gold/academico/fato/fato_notas\")"
   ]
  }
 ],
 "metadata": {
  "application/vnd.databricks.v1+notebook": {
   "computePreferences": null,
   "dashboards": [],
   "environmentMetadata": {
    "base_environment": "",
    "environment_version": "2"
   },
   "language": "python",
   "notebookMetadata": {
    "pythonIndentUnit": 4
   },
   "notebookName": "fato_notas",
   "widgets": {}
  },
  "language_info": {
   "name": "python"
  }
 },
 "nbformat": 4,
 "nbformat_minor": 0
}
