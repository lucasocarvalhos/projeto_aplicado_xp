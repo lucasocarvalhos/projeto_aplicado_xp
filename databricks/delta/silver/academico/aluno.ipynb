{
 "cells": [
  {
   "cell_type": "markdown",
   "metadata": {
    "application/vnd.databricks.v1+cell": {
     "cellMetadata": {
      "byteLimit": 2048000,
      "rowLimit": 10000
     },
     "inputWidgets": {},
     "nuid": "b5e128b1-bc82-4c46-af08-2df2243e6938",
     "showTitle": false,
     "tableResultSettingsMap": {},
     "title": ""
    }
   },
   "source": [
    "### Carrega dados da camada Bronze"
   ]
  },
  {
   "cell_type": "code",
   "execution_count": 0,
   "metadata": {
    "application/vnd.databricks.v1+cell": {
     "cellMetadata": {
      "byteLimit": 2048000,
      "rowLimit": 10000
     },
     "inputWidgets": {},
     "nuid": "77b4262d-a5c2-4e4c-bb96-ee44e98c40a8",
     "showTitle": false,
     "tableResultSettingsMap": {},
     "title": ""
    }
   },
   "outputs": [],
   "source": [
    "from pyspark.sql import functions as f"
   ]
  },
  {
   "cell_type": "code",
   "execution_count": 0,
   "metadata": {
    "application/vnd.databricks.v1+cell": {
     "cellMetadata": {
      "byteLimit": 2048000,
      "rowLimit": 10000
     },
     "inputWidgets": {},
     "nuid": "b61116ee-0a68-4d9d-a4e7-e9cca2a71840",
     "showTitle": false,
     "tableResultSettingsMap": {},
     "title": ""
    }
   },
   "outputs": [],
   "source": [
    "aluno = spark.read.format(\"delta\").load(\"/mnt/delta/bronze/sistema_logosofico/aluno\")"
   ]
  },
  {
   "cell_type": "markdown",
   "metadata": {
    "application/vnd.databricks.v1+cell": {
     "cellMetadata": {
      "byteLimit": 2048000,
      "rowLimit": 10000
     },
     "inputWidgets": {},
     "nuid": "387b16bd-5feb-49a2-aa1e-9c0a7313800a",
     "showTitle": false,
     "tableResultSettingsMap": {},
     "title": ""
    }
   },
   "source": [
    "### Realiza tratamento de dados"
   ]
  },
  {
   "cell_type": "code",
   "execution_count": 0,
   "metadata": {
    "application/vnd.databricks.v1+cell": {
     "cellMetadata": {
      "byteLimit": 2048000,
      "rowLimit": 10000
     },
     "inputWidgets": {},
     "nuid": "fc5904db-60dd-40a7-996e-1abfe3ca6f36",
     "showTitle": false,
     "tableResultSettingsMap": {},
     "title": ""
    }
   },
   "outputs": [],
   "source": [
    "df = (\n",
    "    aluno\n",
    "\n",
    "    .withColumn(\"idade\", \n",
    "                f.floor(f.months_between(f.current_date(), f.col(\"data_nascimento\")) / 12))\n",
    "    \n",
    "    .withColumn(\"cpf\", \n",
    "                f.regexp_replace(f.col(\"cpf\"), r'(\\d{3})\\d{3}(\\d{3})(\\d{2})', r'\\1***\\2**'))\n",
    "    \n",
    "    .withColumn(\"email\", \n",
    "                f.regexp_replace(f.col(\"email\"), r'(.{2}).*@', r'\\1***@'))\n",
    "    \n",
    "    .withColumn(\"telefone\", \n",
    "                f.regexp_replace(f.col(\"telefone\"), r'(\\d{2})\\d{3}(\\d{4})', r'\\1***\\2'))\n",
    "    \n",
    "    .withColumn(\"endereco\", \n",
    "                f.regexp_replace(f.col(\"endereco\"), r'(.{5}).*', r'\\1***'))\n",
    ")"
   ]
  },
  {
   "cell_type": "markdown",
   "metadata": {
    "application/vnd.databricks.v1+cell": {
     "cellMetadata": {
      "byteLimit": 2048000,
      "rowLimit": 10000
     },
     "inputWidgets": {},
     "nuid": "d0bc4137-61ea-4e7a-9605-faec2b296c40",
     "showTitle": false,
     "tableResultSettingsMap": {},
     "title": ""
    }
   },
   "source": [
    "### Persiste dados tratados no Data Lake"
   ]
  },
  {
   "cell_type": "code",
   "execution_count": 0,
   "metadata": {
    "application/vnd.databricks.v1+cell": {
     "cellMetadata": {
      "byteLimit": 2048000,
      "rowLimit": 10000
     },
     "inputWidgets": {},
     "nuid": "4a29eb44-96d0-46a8-80ec-68181414611e",
     "showTitle": false,
     "tableResultSettingsMap": {},
     "title": ""
    }
   },
   "outputs": [],
   "source": [
    "df.write.format(\"delta\").mode(\"overwrite\").save(f\"/mnt/delta/silver/academico/aluno\")"
   ]
  }
 ],
 "metadata": {
  "application/vnd.databricks.v1+notebook": {
   "computePreferences": null,
   "dashboards": [],
   "environmentMetadata": {
    "base_environment": "",
    "environment_version": "2"
   },
   "language": "python",
   "notebookMetadata": {
    "pythonIndentUnit": 4
   },
   "notebookName": "aluno",
   "widgets": {}
  },
  "language_info": {
   "name": "python"
  }
 },
 "nbformat": 4,
 "nbformat_minor": 0
}
